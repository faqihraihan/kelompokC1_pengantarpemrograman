{
 "cells": [
  {
   "cell_type": "markdown",
   "id": "2706d666",
   "metadata": {},
   "source": [
    "# 📘 Ujian Tengah Semester (UTS) - Pengantar Pemrograman\n",
    "### Kelompok: **[Tuliskan Kelompok Anda]**\n",
    "\n",
    "---\n",
    "\n",
    "## 📝 Deskripsi Ujian\n",
    "\n",
    "Buatlah program Python berikut. Program ini dikerjakan berkelompok menggunakan **Jupyter Notebook**.\n",
    "\n",
    "---\n"
   ]
  },
  {
   "cell_type": "markdown",
   "id": "8c969d8a",
   "metadata": {},
   "source": [
    "## 1. Klasifikasi Bilangan: Genap/Ganjil & Positif/Negatif\n",
    "\n",
    "**Deskripsi Soal**: Buatlah program Python yang menerima sebuah bilangan dari pengguna, lalu menampilkan informasi:\n",
    "\n",
    "- Apakah bilangan tersebut genap atau ganjil\n",
    "\n",
    "- Apakah bilangan tersebut positif, negatif, atau nol\n",
    "\n",
    "**Contoh Input ke 1**:\n",
    "\n",
    "`Masukkan bilangan: -5`  \n",
    "\n",
    "**Contoh Output ke 1**:\n",
    "\n",
    "`Bilangan ini adalah: ganjil, negatif`\n",
    "\n",
    "**Contoh Input ke 2**:\n",
    "\n",
    "`Masukkan bilangan: 0`  \n",
    "\n",
    "**Contoh Output ke 2**:\n",
    "\n",
    "`Bilangan ini adalah: genap, nol`"
   ]
  },
  {
   "cell_type": "code",
   "execution_count": null,
   "id": "0ee16bbe",
   "metadata": {},
   "outputs": [],
   "source": [
    "# Kerjakan soal no. 1 di sini"
   ]
  },
  {
   "cell_type": "markdown",
   "id": "a11bda8f",
   "metadata": {},
   "source": [
    "## 2. Mencari Angka Terdekat dari Data\n",
    "\n",
    "**Deskripsi Soal**: Buatlah program Python yang:\n",
    "\n",
    "1. Menerima input deret angka dari pengguna, misalnya: 12, 25, 37, 50, 66, 80\n",
    "\n",
    "2. Meminta pengguna memasukkan sebuah angka acuan\n",
    "\n",
    "3. Menampilkan angka dari deret tersebut yang paling dekat (terkecil selisihnya) terhadap angka acuan\n",
    "\n",
    "**Contoh Input**:\n",
    "\n",
    "`Data: [12, 25, 37, 50, 66, 80]`  \n",
    "`Angka acuan: 60` \n",
    "\n",
    "**Contoh Output**:\n",
    "\n",
    "`Angka terdekat: 66`"
   ]
  },
  {
   "cell_type": "code",
   "execution_count": null,
   "id": "2761aa2e",
   "metadata": {},
   "outputs": [],
   "source": [
    "# Kerjakan soal no. 2 di sini"
   ]
  },
  {
   "cell_type": "markdown",
   "id": "869474dc",
   "metadata": {},
   "source": [
    "## 3. Kalkulator Bilangan Kompleks\n",
    "\n",
    "**Deskripsi Soal**: Buatlah program Python yang:\n",
    "\n",
    "1. Meminta input dua bilangan kompleks dari pengguna (misal: 3+4j, 1-2j)\n",
    "\n",
    "2. Menampilkan hasil:\n",
    "\n",
    "    - Penjumlahan\n",
    "\n",
    "    - Pengurangan\n",
    "\n",
    "    - Perkalian\n",
    "\n",
    "    - Pembagian\n",
    "\n",
    "    - Nilai absolut masing-masing bilangan\n",
    "\n",
    "**Contoh Input**:\n",
    "\n",
    "`Bilangan kompleks pertama: (3+4j)`  \n",
    "`Bilangan kompleks kedua: (1-2j)`\n",
    "\n",
    "**Contoh Output**:\n",
    "  \n",
    "`Penjumlahan: (4+2j)`  \n",
    "`Pengurangan: (2+6j)`  \n",
    "`Perkalian: (11-2j)`  \n",
    "`Pembagian: (-1+2j)`  \n",
    "`Abs(3+4j): 5.0`  \n",
    "`Abs(1-2j): 2.236`"
   ]
  },
  {
   "cell_type": "code",
   "execution_count": null,
   "id": "123b48d9",
   "metadata": {},
   "outputs": [],
   "source": [
    "# Kerjakan soal no. 3 di sini"
   ]
  },
  {
   "cell_type": "markdown",
   "id": "0ce6dd9f",
   "metadata": {},
   "source": [
    "## 4. Konversi Satuan\n",
    "\n",
    "**Deskripsi Soal**: Buatlah program Python yang dapat melakukan konversi:\n",
    "\n",
    "- Panjang: km, m, cm, mm\n",
    "- Suhu: Celcius, Fahrenheit, Kelvin\n",
    "\n",
    "Lalu:\n",
    "\n",
    "- Jika memilih panjang → minta input nilai dan satuan asal & tujuan  \n",
    "- Jika memilih suhu → konversi suhu dari satuan ke satuan lain\n",
    "\n",
    "**Contoh Fitur**:\n",
    "\n",
    "`Pilih jenis konversi:`  \n",
    "`1. Panjang`  \n",
    "`2. Suhu`"
   ]
  },
  {
   "cell_type": "code",
   "execution_count": null,
   "id": "82763209",
   "metadata": {},
   "outputs": [],
   "source": [
    "# Kerjakan soal no. 4 di sini"
   ]
  },
  {
   "cell_type": "markdown",
   "id": "1cb4f1c4",
   "metadata": {},
   "source": [
    "## 5. Analisis Sederhana terhadap Deret Angka\n",
    "\n",
    "**Deskripsi Soal**: Buatlah program yang:\n",
    "\n",
    "1. Meminta input deret angka dari pengguna (dipisahkan dengan koma)\n",
    "\n",
    "2. Menampilkan:\n",
    "\n",
    "    - Nilai maksimum dan minimum\n",
    "\n",
    "    - Rata-rata\n",
    "\n",
    "    - Jumlah bilangan genap dan ganjil\n",
    "\n",
    "    - Jumlah total elemen\n",
    "\n",
    "**Contoh Input**:\n",
    "\n",
    "`Masukkan deret angka: 4, 7, 2, 9, 10, 13, 6`\n",
    "\n",
    "**Contoh Output**:\n",
    "\n",
    "`Nilai maksimum: 13`  \n",
    "`Nilai minimum: 2`  \n",
    "`Rata-rata: 7.29`  \n",
    "`Jumlah bilangan genap: 3`  \n",
    "`Jumlah bilangan ganjil: 4`  \n",
    "`Jumlah total elemen: 7`"
   ]
  },
  {
   "cell_type": "code",
   "execution_count": null,
   "id": "10e807c6",
   "metadata": {},
   "outputs": [],
   "source": [
    "# Kerjakan soal no. 5 di sini"
   ]
  },
  {
   "cell_type": "code",
   "execution_count": null,
   "id": "abf0de2f",
   "metadata": {},
   "outputs": [],
   "source": [
    "import matplotlib.pyplot as plot"
    "print"
   ]
  }
 ],
 "metadata": {
  "language_info": {
   "name": "python"
  }
 },
 "nbformat": 4,
 "nbformat_minor": 5
}
